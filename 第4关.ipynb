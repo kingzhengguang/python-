{
 "cells": [
  {
   "cell_type": "markdown",
   "metadata": {},
   "source": [
    "### 1.数组"
   ]
  },
  {
   "cell_type": "code",
   "execution_count": 1,
   "metadata": {},
   "outputs": [],
   "source": [
    "import numpy as np"
   ]
  },
  {
   "cell_type": "code",
   "execution_count": 3,
   "metadata": {},
   "outputs": [
    {
     "data": {
      "text/plain": [
       "array([[ 0,  1,  2,  3,  4],\n",
       "       [ 5,  6,  7,  8,  9],\n",
       "       [10, 11, 12, 13, 14]])"
      ]
     },
     "execution_count": 3,
     "metadata": {},
     "output_type": "execute_result"
    }
   ],
   "source": [
    "a = np.arange(15).reshape(3, 5)\n",
    "a"
   ]
  },
  {
   "cell_type": "code",
   "execution_count": 4,
   "metadata": {},
   "outputs": [
    {
     "name": "stdout",
     "output_type": "stream",
     "text": [
      "数组维度数： 2\n",
      "数组的维度： (3, 5)\n"
     ]
    }
   ],
   "source": [
    "print('数组维度数：',a.ndim)\n",
    "print('数组的维度：',a.shape)"
   ]
  },
  {
   "cell_type": "code",
   "execution_count": 5,
   "metadata": {},
   "outputs": [
    {
     "data": {
      "text/plain": [
       "array([2, 3, 4])"
      ]
     },
     "execution_count": 5,
     "metadata": {},
     "output_type": "execute_result"
    }
   ],
   "source": [
    "# 使用array函数将元组、列表转为array\n",
    "a = np.array([2,3,4])\n",
    "a"
   ]
  },
  {
   "cell_type": "code",
   "execution_count": 6,
   "metadata": {},
   "outputs": [
    {
     "data": {
      "text/plain": [
       "array([[1.2, 3. , 4. ],\n",
       "       [4.6, 8.1, 7. ]])"
      ]
     },
     "execution_count": 6,
     "metadata": {},
     "output_type": "execute_result"
    }
   ],
   "source": [
    "# 多维数组\n",
    "b = np.array([(1.2,3,4),(4.6,8.1,7)])\n",
    "b"
   ]
  },
  {
   "cell_type": "code",
   "execution_count": 7,
   "metadata": {},
   "outputs": [
    {
     "data": {
      "text/plain": [
       "3.0"
      ]
     },
     "execution_count": 7,
     "metadata": {},
     "output_type": "execute_result"
    }
   ],
   "source": [
    "# 数组的索引,顺序是先高维再低维\n",
    "b[0,1] # 第1行,第2列"
   ]
  },
  {
   "cell_type": "code",
   "execution_count": 8,
   "metadata": {},
   "outputs": [
    {
     "data": {
      "text/plain": [
       "array([4.6, 8.1, 7. ])"
      ]
     },
     "execution_count": 8,
     "metadata": {},
     "output_type": "execute_result"
    }
   ],
   "source": [
    "b[-1]  # 倒数第1行"
   ]
  },
  {
   "cell_type": "code",
   "execution_count": 10,
   "metadata": {},
   "outputs": [
    {
     "name": "stdout",
     "output_type": "stream",
     "text": [
      "1.2\n",
      "3.0\n",
      "4.0\n",
      "4.6\n",
      "8.1\n",
      "7.0\n"
     ]
    }
   ],
   "source": [
    "# 如果要对每个元素进行操作，就要使用flat属性\n",
    "for i in b.flat:\n",
    "    print(i)"
   ]
  },
  {
   "cell_type": "markdown",
   "metadata": {},
   "source": [
    "### 2.矩阵"
   ]
  },
  {
   "cell_type": "code",
   "execution_count": 11,
   "metadata": {},
   "outputs": [],
   "source": [
    "from numpy import *"
   ]
  },
  {
   "cell_type": "code",
   "execution_count": 17,
   "metadata": {},
   "outputs": [
    {
     "name": "stdout",
     "output_type": "stream",
     "text": [
      "[[1 2 3]\n",
      " [2 4 5]]\n"
     ]
    }
   ],
   "source": [
    "a1 = array([[1,2,3],[2,4,5]])\n",
    "print(a1)"
   ]
  },
  {
   "cell_type": "code",
   "execution_count": 18,
   "metadata": {},
   "outputs": [
    {
     "name": "stdout",
     "output_type": "stream",
     "text": [
      "[[1 2 3]\n",
      " [2 4 5]]\n"
     ]
    }
   ],
   "source": [
    "a2 = mat(a1)\n",
    "print(a2)"
   ]
  },
  {
   "cell_type": "code",
   "execution_count": 20,
   "metadata": {},
   "outputs": [
    {
     "name": "stdout",
     "output_type": "stream",
     "text": [
      "[[3 3 3 4 5]\n",
      " [5 3 5 4 7]]\n"
     ]
    }
   ],
   "source": [
    "a3 = mat(random.randint(2,8,size=(2,5))) # 产生2-8的随机矩阵(2行5列)\n",
    "print(a3)"
   ]
  },
  {
   "cell_type": "code",
   "execution_count": 21,
   "metadata": {},
   "outputs": [
    {
     "name": "stdout",
     "output_type": "stream",
     "text": [
      "[[0.79425058 0.14316342 0.41055433]\n",
      " [0.59256415 0.64996507 0.35269898]]\n"
     ]
    }
   ],
   "source": [
    "a4 = mat(random.rand(2,3)) # [0,1]之间均匀分布的随机样本\n",
    "print(a4)"
   ]
  },
  {
   "cell_type": "raw",
   "metadata": {},
   "source": [
    "random.rand()用于生成[0,1]之间均匀分布的随机浮点数\n",
    "random.random()用于生成一个0到1的随机浮点数\n",
    "总结：rand和random的区别就是返回类型不同,int和long int(虽然在普通的32位机上效果是一样的)"
   ]
  },
  {
   "cell_type": "markdown",
   "metadata": {},
   "source": [
    "#### numpy矩阵运算"
   ]
  },
  {
   "cell_type": "code",
   "execution_count": 36,
   "metadata": {},
   "outputs": [
    {
     "name": "stdout",
     "output_type": "stream",
     "text": [
      "B:\n",
      " [[0.10665267 0.97788274 0.87478253]\n",
      " [0.06087746 0.46929031 0.0332998 ]]\n"
     ]
    }
   ],
   "source": [
    "A = mat(random.rand(2,2))\n",
    "B = mat(random.rand(2,3))\n",
    "print('B:\\n',B)"
   ]
  },
  {
   "cell_type": "code",
   "execution_count": 37,
   "metadata": {},
   "outputs": [
    {
     "name": "stdout",
     "output_type": "stream",
     "text": [
      "[[0.06981706 0.59776893 0.35048823]\n",
      " [0.10534252 0.95255822 0.79424219]]\n"
     ]
    }
   ],
   "source": [
    "# 矩阵点乘\n",
    "multi1 = A*B\n",
    "print(multi1)"
   ]
  },
  {
   "cell_type": "code",
   "execution_count": 38,
   "metadata": {},
   "outputs": [
    {
     "name": "stdout",
     "output_type": "stream",
     "text": [
      "[[0.06981706 0.59776893 0.35048823]\n",
      " [0.10534252 0.95255822 0.79424219]]\n"
     ]
    }
   ],
   "source": [
    "multi2 = A.dot(B)\n",
    "print(multi2)"
   ]
  },
  {
   "cell_type": "code",
   "execution_count": 39,
   "metadata": {},
   "outputs": [
    {
     "name": "stdout",
     "output_type": "stream",
     "text": [
      "[[-0.04197556  0.36274779]\n",
      " [-0.0825833   2.26675985]\n",
      " [ 1.24057529 -2.57814176]]\n"
     ]
    }
   ],
   "source": [
    "# 矩阵求逆\n",
    "B_I = B.I\n",
    "print(B_I)"
   ]
  },
  {
   "cell_type": "code",
   "execution_count": 40,
   "metadata": {},
   "outputs": [
    {
     "name": "stdout",
     "output_type": "stream",
     "text": [
      "[[0.10665267 0.06087746]\n",
      " [0.97788274 0.46929031]\n",
      " [0.87478253 0.0332998 ]]\n"
     ]
    }
   ],
   "source": [
    "B_T = B.T\n",
    "print(B_T)"
   ]
  },
  {
   "cell_type": "code",
   "execution_count": null,
   "metadata": {},
   "outputs": [],
   "source": []
  }
 ],
 "metadata": {
  "kernelspec": {
   "display_name": "Python 3",
   "language": "python",
   "name": "python3"
  },
  "language_info": {
   "codemirror_mode": {
    "name": "ipython",
    "version": 3
   },
   "file_extension": ".py",
   "mimetype": "text/x-python",
   "name": "python",
   "nbconvert_exporter": "python",
   "pygments_lexer": "ipython3",
   "version": "3.6.7"
  }
 },
 "nbformat": 4,
 "nbformat_minor": 2
}
